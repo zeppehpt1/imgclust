{
 "cells": [
  {
   "cell_type": "code",
   "execution_count": 11,
   "metadata": {},
   "outputs": [],
   "source": [
    "import geopandas as gpd\n",
    "from pathlib import Path\n",
    "from pathlib import Path\n",
    "import polygonize"
   ]
  },
  {
   "attachments": {},
   "cell_type": "markdown",
   "metadata": {},
   "source": [
    "### Load Files"
   ]
  },
  {
   "cell_type": "code",
   "execution_count": 9,
   "metadata": {},
   "outputs": [],
   "source": [
    "# define paths\n",
    "site_folder = '/home/richard/data/Schiefer/'\n",
    "img_path = Path(site_folder + 'tests/CFB184_ortho_rgb.tif')\n",
    "assert img_path.exists()\n",
    "predictions_path = Path(site_folder + 'inference/schiefer_cfb184_crowns_out_V4_edited_V2_rc5.gpkg')\n",
    "assert predictions_path.exists()"
   ]
  },
  {
   "attachments": {},
   "cell_type": "markdown",
   "metadata": {},
   "source": [
    "### A: Extract whole tree crowns (polygons) from image\n",
    "- no data values are black"
   ]
  },
  {
   "cell_type": "code",
   "execution_count": 14,
   "metadata": {},
   "outputs": [],
   "source": [
    "# sanity check for one crown\n",
    "crowns = gpd.read_file(predictions_path)\n",
    "one_crown = crowns['geometry'][0]\n",
    "# polygonize.clip_crown_from_raster(img_path,one_crown,'sample.png')"
   ]
  },
  {
   "cell_type": "code",
   "execution_count": null,
   "metadata": {},
   "outputs": [],
   "source": [
    "polygonize.clip_multiple_crowns_from_raster(img_path,crowns,make_squares=False)"
   ]
  },
  {
   "attachments": {},
   "cell_type": "markdown",
   "metadata": {},
   "source": [
    "### B: Extract the most largest inner square polygons from the image"
   ]
  },
  {
   "cell_type": "code",
   "execution_count": null,
   "metadata": {},
   "outputs": [],
   "source": [
    "polygonize.clip_multiple_crowns_from_raster(img_path,crowns,make_squares=True)"
   ]
  }
 ],
 "metadata": {
  "kernelspec": {
   "display_name": "detectree2",
   "language": "python",
   "name": "python3"
  },
  "language_info": {
   "codemirror_mode": {
    "name": "ipython",
    "version": 3
   },
   "file_extension": ".py",
   "mimetype": "text/x-python",
   "name": "python",
   "nbconvert_exporter": "python",
   "pygments_lexer": "ipython3",
   "version": "3.8.15"
  },
  "orig_nbformat": 4,
  "vscode": {
   "interpreter": {
    "hash": "579d37c0e11f829fd27710afca693474f5bbc510c142a7662cee2b0a86b87b03"
   }
  }
 },
 "nbformat": 4,
 "nbformat_minor": 2
}
