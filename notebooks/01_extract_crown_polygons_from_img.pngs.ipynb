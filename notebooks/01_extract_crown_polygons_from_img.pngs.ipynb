{
 "cells": [
  {
   "cell_type": "code",
   "execution_count": 1,
   "metadata": {},
   "outputs": [
    {
     "data": {
      "text/plain": [
       "<module 'polygonize' from '/home/richard/master-thesis-code/notebooks/../polygonize.py'>"
      ]
     },
     "execution_count": 1,
     "metadata": {},
     "output_type": "execute_result"
    }
   ],
   "source": [
    "import geopandas as gpd\n",
    "from pathlib import Path\n",
    "from pathlib import Path\n",
    "import sys\n",
    "sys.path.append('..')\n",
    "import polygonize\n",
    "import importlib\n",
    "importlib.reload(polygonize)"
   ]
  },
  {
   "attachments": {},
   "cell_type": "markdown",
   "metadata": {},
   "source": [
    "### Load Files"
   ]
  },
  {
   "cell_type": "code",
   "execution_count": 36,
   "metadata": {},
   "outputs": [],
   "source": [
    "# define paths\n",
    "site_folder = '/home/richard/data/Schiefer/'\n",
    "img_path = Path(site_folder + 'tests/CFB184_ortho_rgb.tif')\n",
    "assert img_path.exists()\n",
    "ortho_mask_path = '/home/richard/bakim/data/Schiefer/roh/masks/CFB184_ortho_mask_byte.tif'\n",
    "assert Path(ortho_mask_path).exists()\n",
    "# predictions_path = Path(site_folder + 'inference/schiefer_cfb184_crowns_out_V4_edited_V2_rc5.gpkg')\n",
    "# assert predictions_path.exists()\n",
    "annotations_gt_path = '/home/richard/data/Schiefer/tests/poly_CFB184.shp'\n",
    "assert Path(annotations_gt_path).exists()\n",
    "\n",
    "# temp\n",
    "#predictions_path = annotations_gt_path"
   ]
  },
  {
   "attachments": {},
   "cell_type": "markdown",
   "metadata": {},
   "source": [
    "### A: Extract whole tree crowns (polygons) from image\n",
    "- no data values are black"
   ]
  },
  {
   "cell_type": "code",
   "execution_count": 37,
   "metadata": {},
   "outputs": [
    {
     "name": "stdout",
     "output_type": "stream",
     "text": [
      "291\n"
     ]
    }
   ],
   "source": [
    "# sanity check for one crown\n",
    "crowns = gpd.read_file(predictions_path)\n",
    "one_crown = crowns['geometry'][0]\n",
    "print(len(crowns))\n",
    "# polygonize.clip_crown_from_raster(img_path,one_crown,'sample.png')"
   ]
  },
  {
   "cell_type": "code",
   "execution_count": 58,
   "metadata": {},
   "outputs": [
    {
     "name": "stdout",
     "output_type": "stream",
     "text": [
      "297\n"
     ]
    },
    {
     "name": "stderr",
     "output_type": "stream",
     "text": [
      "                                                                        \r"
     ]
    }
   ],
   "source": [
    "crowns = gpd.read_file(annotations_gt_path)\n",
    "print(len(crowns))\n",
    "polygonize.clip_multiple_crowns_from_raster(img_path, crowns,make_squares=False)"
   ]
  },
  {
   "attachments": {},
   "cell_type": "markdown",
   "metadata": {},
   "source": [
    "### B: Extract the most largest inner square polygons from the image"
   ]
  },
  {
   "cell_type": "code",
   "execution_count": 9,
   "metadata": {},
   "outputs": [
    {
     "ename": "TypeError",
     "evalue": "'NoneType' object is not iterable",
     "output_type": "error",
     "traceback": [
      "\u001b[0;31m---------------------------------------------------------------------------\u001b[0m",
      "\u001b[0;31mTypeError\u001b[0m                                 Traceback (most recent call last)",
      "Cell \u001b[0;32mIn[9], line 1\u001b[0m\n\u001b[0;32m----> 1\u001b[0m polygonize\u001b[39m.\u001b[39;49mclip_multiple_crowns_from_raster(img_path,crowns,make_squares\u001b[39m=\u001b[39;49m\u001b[39mTrue\u001b[39;49;00m)\n",
      "File \u001b[0;32m~/master-thesis-code/notebooks/../polygonize.py:133\u001b[0m, in \u001b[0;36mclip_multiple_crowns_from_raster\u001b[0;34m(img_path, crowns, make_squares, step_size)\u001b[0m\n\u001b[1;32m    130\u001b[0m \u001b[39massert\u001b[39;00m Path(ortho_mask_path)\u001b[39m.\u001b[39mexists()\n\u001b[1;32m    132\u001b[0m \u001b[39mif\u001b[39;00m make_squares \u001b[39m==\u001b[39m \u001b[39mTrue\u001b[39;00m:\n\u001b[0;32m--> 133\u001b[0m     crowns \u001b[39m=\u001b[39m get_gdf_with_inner_square_polygons(crowns,step_size)\n\u001b[1;32m    134\u001b[0m \u001b[39mfor\u001b[39;00m index \u001b[39min\u001b[39;00m \u001b[39mrange\u001b[39m(\u001b[39mlen\u001b[39m(crowns[\u001b[39m'\u001b[39m\u001b[39mgeometry\u001b[39m\u001b[39m'\u001b[39m])):\n\u001b[1;32m    135\u001b[0m     file_suffix \u001b[39m=\u001b[39m \u001b[39m'\u001b[39m\u001b[39m_mask_\u001b[39m\u001b[39m{0:0>4}\u001b[39;00m\u001b[39m_\u001b[39m\u001b[39m'\u001b[39m\u001b[39m.\u001b[39mformat(index)\n",
      "File \u001b[0;32m~/master-thesis-code/notebooks/../polygonize.py:140\u001b[0m, in \u001b[0;36mget_gdf_with_inner_square_polygons\u001b[0;34m(crowns, step_size)\u001b[0m\n\u001b[1;32m    138\u001b[0m \u001b[39mdef\u001b[39;00m \u001b[39mget_gdf_with_inner_square_polygons\u001b[39m(crowns:GeoDataFrame,step_size\u001b[39m=\u001b[39m\u001b[39m1\u001b[39m) \u001b[39m-\u001b[39m\u001b[39m>\u001b[39m GeoDataFrame:\n\u001b[1;32m    139\u001b[0m     crowns[\u001b[39m'\u001b[39m\u001b[39mrec_poly\u001b[39m\u001b[39m'\u001b[39m] \u001b[39m=\u001b[39m [get_inner_square_corner_coordinates_from_polygon(step_size,polygon) \u001b[39mfor\u001b[39;00m polygon \u001b[39min\u001b[39;00m crowns[\u001b[39m'\u001b[39m\u001b[39mgeometry\u001b[39m\u001b[39m'\u001b[39m]]\n\u001b[0;32m--> 140\u001b[0m     crowns[\u001b[39m'\u001b[39m\u001b[39mrec_poly\u001b[39m\u001b[39m'\u001b[39m] \u001b[39m=\u001b[39m [points_to_polygon(rec_points) \u001b[39mfor\u001b[39;00m rec_points \u001b[39min\u001b[39;00m crowns[\u001b[39m'\u001b[39m\u001b[39mrec_poly\u001b[39m\u001b[39m'\u001b[39m]]\n\u001b[1;32m    141\u001b[0m     crowns \u001b[39m=\u001b[39m crowns\u001b[39m.\u001b[39mdrop(columns\u001b[39m=\u001b[39m\u001b[39m'\u001b[39m\u001b[39mgeometry\u001b[39m\u001b[39m'\u001b[39m)\n\u001b[1;32m    142\u001b[0m     crowns \u001b[39m=\u001b[39m crowns\u001b[39m.\u001b[39mrename(columns\u001b[39m=\u001b[39m{\u001b[39m\"\u001b[39m\u001b[39mrec_poly\u001b[39m\u001b[39m\"\u001b[39m:\u001b[39m\"\u001b[39m\u001b[39mgeometry\u001b[39m\u001b[39m\"\u001b[39m})\n",
      "File \u001b[0;32m~/master-thesis-code/notebooks/../polygonize.py:140\u001b[0m, in \u001b[0;36m<listcomp>\u001b[0;34m(.0)\u001b[0m\n\u001b[1;32m    138\u001b[0m \u001b[39mdef\u001b[39;00m \u001b[39mget_gdf_with_inner_square_polygons\u001b[39m(crowns:GeoDataFrame,step_size\u001b[39m=\u001b[39m\u001b[39m1\u001b[39m) \u001b[39m-\u001b[39m\u001b[39m>\u001b[39m GeoDataFrame:\n\u001b[1;32m    139\u001b[0m     crowns[\u001b[39m'\u001b[39m\u001b[39mrec_poly\u001b[39m\u001b[39m'\u001b[39m] \u001b[39m=\u001b[39m [get_inner_square_corner_coordinates_from_polygon(step_size,polygon) \u001b[39mfor\u001b[39;00m polygon \u001b[39min\u001b[39;00m crowns[\u001b[39m'\u001b[39m\u001b[39mgeometry\u001b[39m\u001b[39m'\u001b[39m]]\n\u001b[0;32m--> 140\u001b[0m     crowns[\u001b[39m'\u001b[39m\u001b[39mrec_poly\u001b[39m\u001b[39m'\u001b[39m] \u001b[39m=\u001b[39m [points_to_polygon(rec_points) \u001b[39mfor\u001b[39;00m rec_points \u001b[39min\u001b[39;00m crowns[\u001b[39m'\u001b[39m\u001b[39mrec_poly\u001b[39m\u001b[39m'\u001b[39m]]\n\u001b[1;32m    141\u001b[0m     crowns \u001b[39m=\u001b[39m crowns\u001b[39m.\u001b[39mdrop(columns\u001b[39m=\u001b[39m\u001b[39m'\u001b[39m\u001b[39mgeometry\u001b[39m\u001b[39m'\u001b[39m)\n\u001b[1;32m    142\u001b[0m     crowns \u001b[39m=\u001b[39m crowns\u001b[39m.\u001b[39mrename(columns\u001b[39m=\u001b[39m{\u001b[39m\"\u001b[39m\u001b[39mrec_poly\u001b[39m\u001b[39m\"\u001b[39m:\u001b[39m\"\u001b[39m\u001b[39mgeometry\u001b[39m\u001b[39m\"\u001b[39m})\n",
      "File \u001b[0;32m~/master-thesis-code/notebooks/../polygonize.py:55\u001b[0m, in \u001b[0;36mpoints_to_polygon\u001b[0;34m(points)\u001b[0m\n\u001b[1;32m     54\u001b[0m \u001b[39mdef\u001b[39;00m \u001b[39mpoints_to_polygon\u001b[39m(points):\n\u001b[0;32m---> 55\u001b[0m     polygon_list \u001b[39m=\u001b[39m make_shapely_points(points)\n\u001b[1;32m     56\u001b[0m     \u001b[39mreturn\u001b[39;00m geometry\u001b[39m.\u001b[39mPolygon([[p\u001b[39m.\u001b[39mx, p\u001b[39m.\u001b[39my] \u001b[39mfor\u001b[39;00m p \u001b[39min\u001b[39;00m polygon_list])\n",
      "File \u001b[0;32m~/master-thesis-code/notebooks/../polygonize.py:38\u001b[0m, in \u001b[0;36mmake_shapely_points\u001b[0;34m(points)\u001b[0m\n\u001b[1;32m     37\u001b[0m \u001b[39mdef\u001b[39;00m \u001b[39mmake_shapely_points\u001b[39m(points):\n\u001b[0;32m---> 38\u001b[0m     \u001b[39mreturn\u001b[39;00m [geometry\u001b[39m.\u001b[39mPoint(point) \u001b[39mfor\u001b[39;00m point \u001b[39min\u001b[39;00m points]\n",
      "\u001b[0;31mTypeError\u001b[0m: 'NoneType' object is not iterable"
     ]
    }
   ],
   "source": [
    "polygonize.clip_multiple_crowns_from_raster(img_path,crowns,make_squares=True)"
   ]
  }
 ],
 "metadata": {
  "kernelspec": {
   "display_name": "detectree2",
   "language": "python",
   "name": "python3"
  },
  "language_info": {
   "codemirror_mode": {
    "name": "ipython",
    "version": 3
   },
   "file_extension": ".py",
   "mimetype": "text/x-python",
   "name": "python",
   "nbconvert_exporter": "python",
   "pygments_lexer": "ipython3",
   "version": "3.8.15"
  },
  "orig_nbformat": 4,
  "vscode": {
   "interpreter": {
    "hash": "579d37c0e11f829fd27710afca693474f5bbc510c142a7662cee2b0a86b87b03"
   }
  }
 },
 "nbformat": 4,
 "nbformat_minor": 2
}
